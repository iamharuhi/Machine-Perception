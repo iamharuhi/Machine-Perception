{
 "cells": [
  {
   "cell_type": "code",
   "execution_count": null,
   "metadata": {},
   "outputs": [],
   "source": [
    "import cv2\n",
    "import numpy as np\n",
    "\n",
    "cap = cv2.VideoCapture(0)\n",
    "\n",
    "while(1):\n",
    "\n",
    "    # Take each frame\n",
    "    _, frame = cap.read()\n",
    "\n",
    "    # Convert BGR to HSV\n",
    "    hsv = cv2.cvtColor(frame, cv2.COLOR_BGR2HSV)\n",
    "\n",
    "    # define range of red color in HSV\n",
    "    lower_red = np.array([0,150,150])\n",
    "    upper_red = np.array([15,255,255])\n",
    "    \n",
    "    # define range of green color in HSV\n",
    "    lower_green = np.array([55,50,50])\n",
    "    upper_green = np.array([80,255,255])\n",
    "    \n",
    "    # define range of yellow color in HSV\n",
    "    lower_yellow = np.array([20,100,100])\n",
    "    upper_yellow = np.array([25,255,255])\n",
    "\n",
    "    # Threshold the HSV image to get only red colors\n",
    "    mask_red = cv2.inRange(hsv, lower_red, upper_red)\n",
    "\n",
    "    # Bitwise-AND mask and original image\n",
    "    res_red = cv2.bitwise_and(frame,frame, mask= mask_red)\n",
    "    \n",
    "    # Threshold the HSV image to get only green colors\n",
    "    mask_green = cv2.inRange(hsv, lower_green, upper_green)\n",
    "\n",
    "    # Bitwise-AND mask and original image\n",
    "    res_green = cv2.bitwise_and(frame,frame, mask= mask_green)\n",
    "    \n",
    "    # Threshold the HSV image to get only yellow colors\n",
    "    mask_yellow = cv2.inRange(hsv, lower_yellow, upper_yellow)\n",
    "\n",
    "    # Bitwise-AND mask and original image\n",
    "    res_yellow = cv2.bitwise_and(frame,frame, mask= mask_yellow)\n",
    "\n",
    "    cv2.imshow('frame',frame)\n",
    "    cv2.imshow('mask_red',mask_red)\n",
    "    cv2.imshow('res_red',res_red)\n",
    "    cv2.imshow('mask_green',mask_green)\n",
    "    cv2.imshow('res_green',res_green)\n",
    "    cv2.imshow('mask_yellow',mask_yellow)\n",
    "    cv2.imshow('res_yellow',res_yellow)\n",
    "    k = cv2.waitKey(5) & 0xFF\n",
    "    if k == 27:\n",
    "        break\n",
    "\n",
    "cv2.destroyAllWindows()"
   ]
  }
 ],
 "metadata": {
  "kernelspec": {
   "display_name": "Python 2",
   "language": "python",
   "name": "python2"
  },
  "language_info": {
   "codemirror_mode": {
    "name": "ipython",
    "version": 2
   },
   "file_extension": ".py",
   "mimetype": "text/x-python",
   "name": "python",
   "nbconvert_exporter": "python",
   "pygments_lexer": "ipython2",
   "version": "2.7.15"
  }
 },
 "nbformat": 4,
 "nbformat_minor": 2
}
